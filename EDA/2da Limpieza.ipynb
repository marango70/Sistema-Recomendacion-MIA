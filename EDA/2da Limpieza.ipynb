{
 "cells": [
  {
   "cell_type": "markdown",
   "metadata": {},
   "source": [
    "## 2DA LIMPIEZA ARCHIVOS"
   ]
  },
  {
   "cell_type": "markdown",
   "metadata": {},
   "source": [
    "Con el objetivo de poder correr bien las app en reder, hago una segunda limpieza de los archivos parquet para garantizar que no tenga porblemas de memoria"
   ]
  },
  {
   "cell_type": "code",
   "execution_count": 187,
   "metadata": {},
   "outputs": [],
   "source": [
    "#Bibliotecas\n",
    "import pandas as pd\n",
    "import warnings\n",
    "warnings.filterwarnings('ignore')"
   ]
  },
  {
   "cell_type": "code",
   "execution_count": 188,
   "metadata": {},
   "outputs": [],
   "source": [
    "#Cargo los datos de los archivos \n",
    "data_movies = pd.read_parquet('../Datasets/data_movies.parquet')\n",
    "data_credits = pd.read_parquet('../Datasets/data_credits.parquet')"
   ]
  },
  {
   "cell_type": "code",
   "execution_count": 189,
   "metadata": {},
   "outputs": [
    {
     "data": {
      "text/plain": [
       "Index(['budget', 'id', 'original_language', 'overview', 'popularity',\n",
       "       'release_date', 'revenue', 'runtime', 'status', 'tagline', 'title',\n",
       "       'vote_average', 'vote_count', 'belongs_to_collection_id',\n",
       "       'belongs_to_collection_name', 'spoken_languages_1_iso',\n",
       "       'spoken_languaje_1_name', 'production_companies_1_name',\n",
       "       'production_companies_1_id', 'production_companies_2_name',\n",
       "       'production_companies_2_id', 'production_countries_1_iso',\n",
       "       'production_countries_1_name', 'genres_1_id', 'genres_1_name',\n",
       "       'genres_2_id', 'genres_2_name', 'genres_3_id', 'genres_3_name',\n",
       "       'release_year', 'return', 'retorno_US'],\n",
       "      dtype='object')"
      ]
     },
     "execution_count": 189,
     "metadata": {},
     "output_type": "execute_result"
    }
   ],
   "source": [
    "data_movies.columns"
   ]
  },
  {
   "cell_type": "code",
   "execution_count": 190,
   "metadata": {},
   "outputs": [],
   "source": [
    "data_movies = data_movies.drop(axis=1,columns=['runtime',\n",
    "                                                'status',\n",
    "                                                'tagline',\n",
    "                                                'belongs_to_collection_id',\n",
    "                                                'belongs_to_collection_name', \n",
    "                                                'spoken_languages_1_iso',\n",
    "                                                'spoken_languaje_1_name', \n",
    "                                                'production_companies_1_name',\n",
    "                                                'production_companies_1_id', \n",
    "                                                'production_companies_2_name',\n",
    "                                                'production_companies_2_id', \n",
    "                                                'production_countries_1_iso',\n",
    "                                                'production_countries_1_name', \n",
    "                                                'genres_1_id',\n",
    "                                                'genres_2_id', \n",
    "                                                'genres_2_name',\n",
    "                                                'genres_3_id',\n",
    "                                                'genres_3_name'\n",
    "                                                ])"
   ]
  },
  {
   "cell_type": "code",
   "execution_count": 191,
   "metadata": {},
   "outputs": [
    {
     "data": {
      "text/plain": [
       "Index(['budget', 'id', 'original_language', 'overview', 'popularity',\n",
       "       'release_date', 'revenue', 'title', 'vote_average', 'vote_count',\n",
       "       'genres_1_name', 'release_year', 'return', 'retorno_US'],\n",
       "      dtype='object')"
      ]
     },
     "execution_count": 191,
     "metadata": {},
     "output_type": "execute_result"
    }
   ],
   "source": [
    "data_movies.columns"
   ]
  },
  {
   "cell_type": "code",
   "execution_count": 192,
   "metadata": {},
   "outputs": [],
   "source": [
    "data_credits = data_credits.drop(axis=1, columns=['cast_name_5',\n",
    "                                                  'cast_name_6',\n",
    "                                                  'cast_name_7',\n",
    "                                                  'cast_name_8',\n",
    "                                                  'cast_name_9',\n",
    "                                                  'cast_name_10'])"
   ]
  },
  {
   "cell_type": "code",
   "execution_count": 193,
   "metadata": {},
   "outputs": [
    {
     "data": {
      "text/plain": [
       "Index(['id', 'cast_name', 'cast_name_2', 'cast_name_3', 'cast_name_4',\n",
       "       'director'],\n",
       "      dtype='object')"
      ]
     },
     "execution_count": 193,
     "metadata": {},
     "output_type": "execute_result"
    }
   ],
   "source": [
    "data_credits.columns"
   ]
  },
  {
   "cell_type": "code",
   "execution_count": 194,
   "metadata": {},
   "outputs": [
    {
     "name": "stdout",
     "output_type": "stream",
     "text": [
      "<class 'pandas.core.frame.DataFrame'>\n",
      "Index: 45439 entries, 0 to 45475\n",
      "Data columns (total 6 columns):\n",
      " #   Column       Non-Null Count  Dtype \n",
      "---  ------       --------------  ----- \n",
      " 0   id           45439 non-null  int64 \n",
      " 1   cast_name    45439 non-null  object\n",
      " 2   cast_name_2  45439 non-null  object\n",
      " 3   cast_name_3  45439 non-null  object\n",
      " 4   cast_name_4  45439 non-null  object\n",
      " 5   director     45439 non-null  object\n",
      "dtypes: int64(1), object(5)\n",
      "memory usage: 2.4+ MB\n"
     ]
    }
   ],
   "source": [
    "data_credits.info()"
   ]
  },
  {
   "cell_type": "code",
   "execution_count": 195,
   "metadata": {},
   "outputs": [
    {
     "name": "stdout",
     "output_type": "stream",
     "text": [
      "<class 'pandas.core.frame.DataFrame'>\n",
      "Index: 45363 entries, 0 to 45465\n",
      "Data columns (total 14 columns):\n",
      " #   Column             Non-Null Count  Dtype  \n",
      "---  ------             --------------  -----  \n",
      " 0   budget             45363 non-null  int64  \n",
      " 1   id                 45363 non-null  int64  \n",
      " 2   original_language  45352 non-null  object \n",
      " 3   overview           44422 non-null  object \n",
      " 4   popularity         45363 non-null  float64\n",
      " 5   release_date       45363 non-null  object \n",
      " 6   revenue            45363 non-null  float64\n",
      " 7   title              45363 non-null  object \n",
      " 8   vote_average       45363 non-null  float64\n",
      " 9   vote_count         45363 non-null  float64\n",
      " 10  genres_1_name      42979 non-null  object \n",
      " 11  release_year       45363 non-null  int32  \n",
      " 12  return             45363 non-null  float64\n",
      " 13  retorno_US         45363 non-null  float64\n",
      "dtypes: float64(6), int32(1), int64(2), object(5)\n",
      "memory usage: 5.0+ MB\n"
     ]
    }
   ],
   "source": [
    "data_movies.info()"
   ]
  },
  {
   "cell_type": "code",
   "execution_count": 196,
   "metadata": {},
   "outputs": [],
   "source": [
    "# Exportar los DataFrames a archivos Parquet\n",
    "data_credits.to_parquet('data_credits.parquet', engine='pyarrow')\n",
    "data_movies.to_parquet('data_movies.parquet', engine='pyarrow')"
   ]
  },
  {
   "cell_type": "markdown",
   "metadata": {},
   "source": [
    "# Archivo de datos para modelo de Recomendación"
   ]
  },
  {
   "cell_type": "markdown",
   "metadata": {},
   "source": [
    "A continuación realizo una limpieza específica del archivo para poder trabajarlo en el modelo de recomendación:"
   ]
  },
  {
   "cell_type": "markdown",
   "metadata": {},
   "source": [
    "**Data_Movies:**"
   ]
  },
  {
   "cell_type": "code",
   "execution_count": 197,
   "metadata": {},
   "outputs": [],
   "source": [
    "data_movies = data_movies.drop(axis=1, columns= ['budget','release_date',\n",
    "                                    'revenue',\n",
    "                                    'vote_count', \n",
    "                                    'return', \n",
    "                                    'retorno_US'\n",
    "                                    ])"
   ]
  },
  {
   "cell_type": "code",
   "execution_count": 198,
   "metadata": {},
   "outputs": [
    {
     "name": "stdout",
     "output_type": "stream",
     "text": [
      "<class 'pandas.core.frame.DataFrame'>\n",
      "Index: 45363 entries, 0 to 45465\n",
      "Data columns (total 8 columns):\n",
      " #   Column             Non-Null Count  Dtype  \n",
      "---  ------             --------------  -----  \n",
      " 0   id                 45363 non-null  int64  \n",
      " 1   original_language  45352 non-null  object \n",
      " 2   overview           44422 non-null  object \n",
      " 3   popularity         45363 non-null  float64\n",
      " 4   title              45363 non-null  object \n",
      " 5   vote_average       45363 non-null  float64\n",
      " 6   genres_1_name      42979 non-null  object \n",
      " 7   release_year       45363 non-null  int32  \n",
      "dtypes: float64(2), int32(1), int64(1), object(4)\n",
      "memory usage: 2.9+ MB\n"
     ]
    }
   ],
   "source": [
    "data_movies.info()"
   ]
  },
  {
   "cell_type": "markdown",
   "metadata": {},
   "source": [
    "**Data_credits:**"
   ]
  },
  {
   "cell_type": "code",
   "execution_count": 199,
   "metadata": {},
   "outputs": [],
   "source": [
    "data_credits = data_credits.drop(axis=1, columns=['cast_name_2',\n",
    "                                    'cast_name_3', \n",
    "                                    'cast_name_4'\n",
    "                                    ])"
   ]
  },
  {
   "cell_type": "code",
   "execution_count": 200,
   "metadata": {},
   "outputs": [
    {
     "data": {
      "text/plain": [
       "<bound method DataFrame.info of            id         cast_name          director\n",
       "0         862         tom hanks     john lasseter\n",
       "1        8844    robin williams   larry j. franco\n",
       "2       15602    walter matthau     howard deutch\n",
       "3       31357   whitney houston   forest whitaker\n",
       "4       11862      steve martin    alan silvestri\n",
       "...       ...               ...               ...\n",
       "45471  439050      leila hatami  hamid nematollah\n",
       "45472  111109      angel aquino          lav diaz\n",
       "45473   67758     erika eleniak    mark l. lester\n",
       "45474  227506  iwan mosschuchin  yakov protazanov\n",
       "45475  461257              none     daisy asquith\n",
       "\n",
       "[45439 rows x 3 columns]>"
      ]
     },
     "execution_count": 200,
     "metadata": {},
     "output_type": "execute_result"
    }
   ],
   "source": [
    "data_credits.info"
   ]
  },
  {
   "cell_type": "markdown",
   "metadata": {},
   "source": [
    "**Merge:**"
   ]
  },
  {
   "cell_type": "code",
   "execution_count": 201,
   "metadata": {},
   "outputs": [],
   "source": [
    "data = pd.merge(data_movies,data_credits, on = 'id')"
   ]
  },
  {
   "cell_type": "code",
   "execution_count": 202,
   "metadata": {},
   "outputs": [
    {
     "name": "stdout",
     "output_type": "stream",
     "text": [
      "<class 'pandas.core.frame.DataFrame'>\n",
      "RangeIndex: 45375 entries, 0 to 45374\n",
      "Data columns (total 10 columns):\n",
      " #   Column             Non-Null Count  Dtype  \n",
      "---  ------             --------------  -----  \n",
      " 0   id                 45375 non-null  int64  \n",
      " 1   original_language  45364 non-null  object \n",
      " 2   overview           44434 non-null  object \n",
      " 3   popularity         45375 non-null  float64\n",
      " 4   title              45375 non-null  object \n",
      " 5   vote_average       45375 non-null  float64\n",
      " 6   genres_1_name      42992 non-null  object \n",
      " 7   release_year       45375 non-null  int32  \n",
      " 8   cast_name          45375 non-null  object \n",
      " 9   director           45375 non-null  object \n",
      "dtypes: float64(2), int32(1), int64(1), object(6)\n",
      "memory usage: 3.3+ MB\n"
     ]
    }
   ],
   "source": [
    "data.info()"
   ]
  },
  {
   "cell_type": "code",
   "execution_count": 203,
   "metadata": {},
   "outputs": [
    {
     "name": "stdout",
     "output_type": "stream",
     "text": [
      "<class 'pandas.core.frame.DataFrame'>\n",
      "Index: 23214 entries, 707 to 45374\n",
      "Data columns (total 10 columns):\n",
      " #   Column             Non-Null Count  Dtype  \n",
      "---  ------             --------------  -----  \n",
      " 0   id                 23214 non-null  int64  \n",
      " 1   original_language  23208 non-null  object \n",
      " 2   overview           22696 non-null  object \n",
      " 3   popularity         23214 non-null  float64\n",
      " 4   title              23214 non-null  object \n",
      " 5   vote_average       23214 non-null  float64\n",
      " 6   genres_1_name      22156 non-null  object \n",
      " 7   release_year       23214 non-null  int32  \n",
      " 8   cast_name          23214 non-null  object \n",
      " 9   director           23214 non-null  object \n",
      "dtypes: float64(2), int32(1), int64(1), object(6)\n",
      "memory usage: 1.9+ MB\n"
     ]
    }
   ],
   "source": [
    "# Tomo la data del año 2000 en adelante, con el objetivo de bajarle tamaño al archivo\n",
    "data_filtrada = data[data['release_year'] > 2000] \n",
    "data_filtrada.info()\n"
   ]
  },
  {
   "cell_type": "code",
   "execution_count": 204,
   "metadata": {},
   "outputs": [],
   "source": [
    "features = ['overview',\n",
    "            'cast_name',\n",
    "            'original_language',\n",
    "            'genres_1_name', \n",
    "            'director'\n",
    "            ]\n",
    "\n",
    "# Llenado de valores nulos a las características categóricas\n",
    "for feature in features:\n",
    "    if data_filtrada[feature].dtype == 'object':\n",
    "        data_filtrada[feature] = data[feature].fillna('')"
   ]
  },
  {
   "cell_type": "code",
   "execution_count": 205,
   "metadata": {},
   "outputs": [],
   "source": [
    "data_filtrada['texto_combinado'] = data_filtrada['overview'] + ' ' + data_filtrada['genres_1_name']  + ' ' + data_filtrada['cast_name'] + ' ' + data_filtrada['director'] + ' ' + data_filtrada['original_language']\n"
   ]
  },
  {
   "cell_type": "code",
   "execution_count": 206,
   "metadata": {},
   "outputs": [],
   "source": [
    "from sklearn.feature_extraction.text import TfidfVectorizer\n",
    "from sklearn.preprocessing import StandardScaler\n",
    "\n",
    "tfidf = TfidfVectorizer(stop_words='english')    #Instancio\n",
    "\n",
    "tfidf_matrix = tfidf.fit_transform(data_filtrada['texto_combinado'])  #vectorizo"
   ]
  },
  {
   "cell_type": "code",
   "execution_count": 207,
   "metadata": {},
   "outputs": [
    {
     "name": "stdout",
     "output_type": "stream",
     "text": [
      "<class 'pandas.core.frame.DataFrame'>\n",
      "Index: 23214 entries, 707 to 45374\n",
      "Data columns (total 11 columns):\n",
      " #   Column             Non-Null Count  Dtype  \n",
      "---  ------             --------------  -----  \n",
      " 0   id                 23214 non-null  int64  \n",
      " 1   original_language  23214 non-null  object \n",
      " 2   overview           23214 non-null  object \n",
      " 3   popularity         23214 non-null  float64\n",
      " 4   title              23214 non-null  object \n",
      " 5   vote_average       23214 non-null  float64\n",
      " 6   genres_1_name      23214 non-null  object \n",
      " 7   release_year       23214 non-null  int32  \n",
      " 8   cast_name          23214 non-null  object \n",
      " 9   director           23214 non-null  object \n",
      " 10  texto_combinado    23214 non-null  object \n",
      "dtypes: float64(2), int32(1), int64(1), object(7)\n",
      "memory usage: 2.0+ MB\n"
     ]
    }
   ],
   "source": [
    "data_filtrada.info()"
   ]
  },
  {
   "cell_type": "code",
   "execution_count": 208,
   "metadata": {},
   "outputs": [
    {
     "data": {
      "text/plain": [
       "Index(['id', 'original_language', 'overview', 'popularity', 'title',\n",
       "       'vote_average', 'genres_1_name', 'release_year', 'cast_name',\n",
       "       'director', 'texto_combinado'],\n",
       "      dtype='object')"
      ]
     },
     "execution_count": 208,
     "metadata": {},
     "output_type": "execute_result"
    }
   ],
   "source": [
    "data_filtrada.columns"
   ]
  },
  {
   "cell_type": "code",
   "execution_count": 209,
   "metadata": {},
   "outputs": [
    {
     "data": {
      "text/html": [
       "<div>\n",
       "<style scoped>\n",
       "    .dataframe tbody tr th:only-of-type {\n",
       "        vertical-align: middle;\n",
       "    }\n",
       "\n",
       "    .dataframe tbody tr th {\n",
       "        vertical-align: top;\n",
       "    }\n",
       "\n",
       "    .dataframe thead th {\n",
       "        text-align: right;\n",
       "    }\n",
       "</style>\n",
       "<table border=\"1\" class=\"dataframe\">\n",
       "  <thead>\n",
       "    <tr style=\"text-align: right;\">\n",
       "      <th></th>\n",
       "      <th>id</th>\n",
       "      <th>original_language</th>\n",
       "      <th>overview</th>\n",
       "      <th>popularity</th>\n",
       "      <th>title</th>\n",
       "      <th>vote_average</th>\n",
       "      <th>genres_1_name</th>\n",
       "      <th>release_year</th>\n",
       "      <th>cast_name</th>\n",
       "      <th>director</th>\n",
       "      <th>texto_combinado</th>\n",
       "    </tr>\n",
       "  </thead>\n",
       "  <tbody>\n",
       "    <tr>\n",
       "      <th>707</th>\n",
       "      <td>131232</td>\n",
       "      <td>en</td>\n",
       "      <td>Two Sicilian friends, Nunzio and Pino, share t...</td>\n",
       "      <td>0.003949</td>\n",
       "      <td>two friends</td>\n",
       "      <td>0.0</td>\n",
       "      <td>Drama</td>\n",
       "      <td>2002</td>\n",
       "      <td>francesco sframeli</td>\n",
       "      <td>francesco sframeli</td>\n",
       "      <td>Two Sicilian friends, Nunzio and Pino, share t...</td>\n",
       "    </tr>\n",
       "    <tr>\n",
       "      <th>867</th>\n",
       "      <td>79782</td>\n",
       "      <td>en</td>\n",
       "      <td>An atmospheric coming-of-age story featuring a...</td>\n",
       "      <td>0.147130</td>\n",
       "      <td>venice</td>\n",
       "      <td>7.5</td>\n",
       "      <td>Drama</td>\n",
       "      <td>2010</td>\n",
       "      <td>marcin walewski</td>\n",
       "      <td>jan jakub kolski</td>\n",
       "      <td>An atmospheric coming-of-age story featuring a...</td>\n",
       "    </tr>\n",
       "    <tr>\n",
       "      <th>1080</th>\n",
       "      <td>141210</td>\n",
       "      <td>en</td>\n",
       "      <td>The town of Derry has a secret, but no one tol...</td>\n",
       "      <td>0.135596</td>\n",
       "      <td>the sleepover</td>\n",
       "      <td>8.0</td>\n",
       "      <td>Comedy</td>\n",
       "      <td>2013</td>\n",
       "      <td>josh feldman</td>\n",
       "      <td>chris cullari</td>\n",
       "      <td>The town of Derry has a secret, but no one tol...</td>\n",
       "    </tr>\n",
       "    <tr>\n",
       "      <th>2112</th>\n",
       "      <td>143750</td>\n",
       "      <td>en</td>\n",
       "      <td>As her surroundings are invaded by outsiders, ...</td>\n",
       "      <td>0.211754</td>\n",
       "      <td>the farmer's wife</td>\n",
       "      <td>10.0</td>\n",
       "      <td>Drama</td>\n",
       "      <td>2012</td>\n",
       "      <td>james cartwright</td>\n",
       "      <td>john parish</td>\n",
       "      <td>As her surroundings are invaded by outsiders, ...</td>\n",
       "    </tr>\n",
       "    <tr>\n",
       "      <th>2562</th>\n",
       "      <td>84198</td>\n",
       "      <td>en</td>\n",
       "      <td>Using personal stories, this powerful document...</td>\n",
       "      <td>0.501046</td>\n",
       "      <td>a place at the table</td>\n",
       "      <td>6.9</td>\n",
       "      <td>Documentary</td>\n",
       "      <td>2012</td>\n",
       "      <td>jeff bridges</td>\n",
       "      <td>kristi jacobson</td>\n",
       "      <td>Using personal stories, this powerful document...</td>\n",
       "    </tr>\n",
       "  </tbody>\n",
       "</table>\n",
       "</div>"
      ],
      "text/plain": [
       "          id original_language  \\\n",
       "707   131232                en   \n",
       "867    79782                en   \n",
       "1080  141210                en   \n",
       "2112  143750                en   \n",
       "2562   84198                en   \n",
       "\n",
       "                                               overview  popularity  \\\n",
       "707   Two Sicilian friends, Nunzio and Pino, share t...    0.003949   \n",
       "867   An atmospheric coming-of-age story featuring a...    0.147130   \n",
       "1080  The town of Derry has a secret, but no one tol...    0.135596   \n",
       "2112  As her surroundings are invaded by outsiders, ...    0.211754   \n",
       "2562  Using personal stories, this powerful document...    0.501046   \n",
       "\n",
       "                     title  vote_average genres_1_name  release_year  \\\n",
       "707            two friends           0.0         Drama          2002   \n",
       "867                 venice           7.5         Drama          2010   \n",
       "1080         the sleepover           8.0        Comedy          2013   \n",
       "2112     the farmer's wife          10.0         Drama          2012   \n",
       "2562  a place at the table           6.9   Documentary          2012   \n",
       "\n",
       "               cast_name            director  \\\n",
       "707   francesco sframeli  francesco sframeli   \n",
       "867      marcin walewski    jan jakub kolski   \n",
       "1080        josh feldman       chris cullari   \n",
       "2112    james cartwright         john parish   \n",
       "2562        jeff bridges     kristi jacobson   \n",
       "\n",
       "                                        texto_combinado  \n",
       "707   Two Sicilian friends, Nunzio and Pino, share t...  \n",
       "867   An atmospheric coming-of-age story featuring a...  \n",
       "1080  The town of Derry has a secret, but no one tol...  \n",
       "2112  As her surroundings are invaded by outsiders, ...  \n",
       "2562  Using personal stories, this powerful document...  "
      ]
     },
     "execution_count": 209,
     "metadata": {},
     "output_type": "execute_result"
    }
   ],
   "source": [
    "data_filtrada.head()"
   ]
  },
  {
   "cell_type": "code",
   "execution_count": 212,
   "metadata": {},
   "outputs": [],
   "source": [
    "data_filtrada.to_parquet('../data_filtrada.parquet', engine='pyarrow')"
   ]
  }
 ],
 "metadata": {
  "kernelspec": {
   "display_name": "Python 3",
   "language": "python",
   "name": "python3"
  },
  "language_info": {
   "codemirror_mode": {
    "name": "ipython",
    "version": 3
   },
   "file_extension": ".py",
   "mimetype": "text/x-python",
   "name": "python",
   "nbconvert_exporter": "python",
   "pygments_lexer": "ipython3",
   "version": "3.10.0"
  }
 },
 "nbformat": 4,
 "nbformat_minor": 2
}
