{
 "cells": [
  {
   "cell_type": "markdown",
   "metadata": {},
   "source": [
    "## 2DA LIMPIEZA ARCHIVOS"
   ]
  },
  {
   "cell_type": "markdown",
   "metadata": {},
   "source": [
    "Con el objetivo de poder correr bien las app en reder, hago una segunda limpieza de los archivos parquet para garantizar que no tenga porblemas de memoria"
   ]
  },
  {
   "cell_type": "code",
   "execution_count": 3,
   "metadata": {},
   "outputs": [],
   "source": [
    "#Bibliotecas\n",
    "import pandas as pd\n"
   ]
  },
  {
   "cell_type": "code",
   "execution_count": 4,
   "metadata": {},
   "outputs": [],
   "source": [
    "#Cargo los datos de los archivos \n",
    "data_movies = pd.read_parquet('../Datasets/data_movies.parquet')\n",
    "data_credits = pd.read_parquet('../Datasets/data_credits.parquet')"
   ]
  },
  {
   "cell_type": "code",
   "execution_count": 5,
   "metadata": {},
   "outputs": [
    {
     "data": {
      "text/plain": [
       "Index(['budget', 'id', 'original_language', 'overview', 'popularity',\n",
       "       'release_date', 'revenue', 'runtime', 'status', 'tagline', 'title',\n",
       "       'vote_average', 'vote_count', 'belongs_to_collection_id',\n",
       "       'belongs_to_collection_name', 'spoken_languages_1_iso',\n",
       "       'spoken_languaje_1_name', 'production_companies_1_name',\n",
       "       'production_companies_1_id', 'production_companies_2_name',\n",
       "       'production_companies_2_id', 'production_countries_1_iso',\n",
       "       'production_countries_1_name', 'genres_1_id', 'genres_1_name',\n",
       "       'genres_2_id', 'genres_2_name', 'genres_3_id', 'genres_3_name',\n",
       "       'release_year', 'return', 'retorno_US'],\n",
       "      dtype='object')"
      ]
     },
     "execution_count": 5,
     "metadata": {},
     "output_type": "execute_result"
    }
   ],
   "source": [
    "data_movies.columns"
   ]
  },
  {
   "cell_type": "code",
   "execution_count": 7,
   "metadata": {},
   "outputs": [],
   "source": [
    "data_movies = data_movies.drop(axis=1,columns=['runtime',\n",
    "                                                'status',\n",
    "                                                'tagline',\n",
    "                                                'belongs_to_collection_id',\n",
    "                                                'belongs_to_collection_name', \n",
    "                                                'spoken_languages_1_iso',\n",
    "                                                'spoken_languaje_1_name', \n",
    "                                                'production_companies_1_name',\n",
    "                                                'production_companies_1_id', \n",
    "                                                'production_companies_2_name',\n",
    "                                                'production_companies_2_id', \n",
    "                                                'production_countries_1_iso',\n",
    "                                                'production_countries_1_name', \n",
    "                                                'genres_1_id',\n",
    "                                                'genres_2_id', \n",
    "                                                'genres_2_name',\n",
    "                                                'genres_3_id',\n",
    "                                                'genres_3_name'\n",
    "                                                ])"
   ]
  },
  {
   "cell_type": "code",
   "execution_count": 9,
   "metadata": {},
   "outputs": [
    {
     "data": {
      "text/plain": [
       "Index(['budget', 'id', 'original_language', 'overview', 'popularity',\n",
       "       'release_date', 'revenue', 'title', 'vote_average', 'vote_count',\n",
       "       'genres_1_name', 'release_year', 'return', 'retorno_US'],\n",
       "      dtype='object')"
      ]
     },
     "execution_count": 9,
     "metadata": {},
     "output_type": "execute_result"
    }
   ],
   "source": [
    "data_movies.columns"
   ]
  },
  {
   "cell_type": "code",
   "execution_count": 8,
   "metadata": {},
   "outputs": [],
   "source": [
    "data_credits = data_credits.drop(axis=1, columns=['cast_name_5',\n",
    "                                                  'cast_name_6',\n",
    "                                                  'cast_name_7',\n",
    "                                                  'cast_name_8',\n",
    "                                                  'cast_name_9',\n",
    "                                                  'cast_name_10'])"
   ]
  },
  {
   "cell_type": "code",
   "execution_count": 10,
   "metadata": {},
   "outputs": [
    {
     "data": {
      "text/plain": [
       "Index(['id', 'cast_name', 'cast_name_2', 'cast_name_3', 'cast_name_4',\n",
       "       'director'],\n",
       "      dtype='object')"
      ]
     },
     "execution_count": 10,
     "metadata": {},
     "output_type": "execute_result"
    }
   ],
   "source": [
    "data_credits.columns"
   ]
  },
  {
   "cell_type": "code",
   "execution_count": 12,
   "metadata": {},
   "outputs": [
    {
     "name": "stdout",
     "output_type": "stream",
     "text": [
      "<class 'pandas.core.frame.DataFrame'>\n",
      "Index: 45439 entries, 0 to 45475\n",
      "Data columns (total 6 columns):\n",
      " #   Column       Non-Null Count  Dtype \n",
      "---  ------       --------------  ----- \n",
      " 0   id           45439 non-null  int64 \n",
      " 1   cast_name    45439 non-null  object\n",
      " 2   cast_name_2  45439 non-null  object\n",
      " 3   cast_name_3  45439 non-null  object\n",
      " 4   cast_name_4  45439 non-null  object\n",
      " 5   director     45439 non-null  object\n",
      "dtypes: int64(1), object(5)\n",
      "memory usage: 2.4+ MB\n"
     ]
    }
   ],
   "source": [
    "data_credits.info()"
   ]
  },
  {
   "cell_type": "code",
   "execution_count": 13,
   "metadata": {},
   "outputs": [
    {
     "name": "stdout",
     "output_type": "stream",
     "text": [
      "<class 'pandas.core.frame.DataFrame'>\n",
      "Index: 45363 entries, 0 to 45465\n",
      "Data columns (total 14 columns):\n",
      " #   Column             Non-Null Count  Dtype  \n",
      "---  ------             --------------  -----  \n",
      " 0   budget             45363 non-null  int64  \n",
      " 1   id                 45363 non-null  int64  \n",
      " 2   original_language  45352 non-null  object \n",
      " 3   overview           44422 non-null  object \n",
      " 4   popularity         45363 non-null  float64\n",
      " 5   release_date       45363 non-null  object \n",
      " 6   revenue            45363 non-null  float64\n",
      " 7   title              45363 non-null  object \n",
      " 8   vote_average       45363 non-null  float64\n",
      " 9   vote_count         45363 non-null  float64\n",
      " 10  genres_1_name      42979 non-null  object \n",
      " 11  release_year       45363 non-null  int32  \n",
      " 12  return             45363 non-null  float64\n",
      " 13  retorno_US         45363 non-null  float64\n",
      "dtypes: float64(6), int32(1), int64(2), object(5)\n",
      "memory usage: 5.0+ MB\n"
     ]
    }
   ],
   "source": [
    "data_movies.info()"
   ]
  },
  {
   "cell_type": "code",
   "execution_count": 11,
   "metadata": {},
   "outputs": [],
   "source": [
    "# Exportar los DataFrames a archivos Parquet\n",
    "data_credits.to_parquet('data_credits.parquet', engine='pyarrow')\n",
    "data_movies.to_parquet('data_movies.parquet', engine='pyarrow')"
   ]
  }
 ],
 "metadata": {
  "kernelspec": {
   "display_name": "Python 3",
   "language": "python",
   "name": "python3"
  },
  "language_info": {
   "codemirror_mode": {
    "name": "ipython",
    "version": 3
   },
   "file_extension": ".py",
   "mimetype": "text/x-python",
   "name": "python",
   "nbconvert_exporter": "python",
   "pygments_lexer": "ipython3",
   "version": "3.10.0"
  }
 },
 "nbformat": 4,
 "nbformat_minor": 2
}
