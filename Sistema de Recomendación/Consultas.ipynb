{
 "cells": [
  {
   "cell_type": "markdown",
   "metadata": {},
   "source": [
    "Función Cantidad de Filmaciones por Mes:"
   ]
  },
  {
   "cell_type": "code",
   "execution_count": null,
   "metadata": {},
   "outputs": [],
   "source": [
    "# Librerias\n",
    "import numpy as np\n",
    "import pandas as pd\n",
    "import matplotlib.pyplot as plt\n",
    "import seaborn as sns\n",
    "sns.set\n",
    "import warnings\n",
    "warnings.filterwarnings('ignore')\n",
    "import ast\n",
    "import datetime as dt\n",
    "from fastapi import FastAPI, HTTPException\n",
    "from wordcloud import WordCloud"
   ]
  },
  {
   "cell_type": "code",
   "execution_count": null,
   "metadata": {},
   "outputs": [],
   "source": [
    "#Cargo los datos de los archivos \n",
    "data_movies = pd.read_parquet('./Datasets/data_movies.parquet')\n",
    "data_credits = pd.read_parquet('./Datasets/data_credits.parquet')"
   ]
  },
  {
   "cell_type": "code",
   "execution_count": null,
   "metadata": {},
   "outputs": [],
   "source": [
    "data_movies.info()\n"
   ]
  },
  {
   "cell_type": "markdown",
   "metadata": {},
   "source": [
    "def score_titulo( titulo_de_la_filmación ): Se ingresa el título de una filmación esperando como respuesta el título, el año de estreno y el score.\n",
    "                    Ejemplo de retorno: La película X fue estrenada en el año X con un score/popularidad de X"
   ]
  },
  {
   "cell_type": "code",
   "execution_count": null,
   "metadata": {},
   "outputs": [],
   "source": [
    "def cargar_datos():\n",
    "    # Ajusta la ruta al archivo Parquet\n",
    "    df = pd.read_parquet('./Datasets/data_movies.parquet')\n",
    "    df_credits = pd.read_parquet('./Datasets/data_credits.parquet')\n",
    "    return df, df_credits\n",
    "\n",
    "#Cargo los Datos\n",
    "peliculas, creditos = cargar_datos()"
   ]
  },
  {
   "cell_type": "code",
   "execution_count": null,
   "metadata": {},
   "outputs": [],
   "source": [
    "peliculas.info()"
   ]
  },
  {
   "cell_type": "code",
   "execution_count": null,
   "metadata": {},
   "outputs": [],
   "source": [
    "def score_titulo (titulo_de_la_filmacion):\n",
    "    titulo_de_la_filmacion = titulo_de_la_filmacion.lower().strip()\n",
    "    print (titulo_de_la_filmacion)\n",
    "\n",
    "    pelicula = peliculas[peliculas['title'].str.lower() == titulo_de_la_filmacion]\n",
    "    \n",
    "    if pelicula.empty:\n",
    "        print(\"No se encontró ninguna película con ese título.\")\n",
    "        return None\n",
    "    else:\n",
    "    # Extraer los detalles de la película\n",
    "        pelicula_encontrada = pelicula.iloc[0]  # Tomar la primera coincidencia\n",
    "        titulo = pelicula_encontrada['title']\n",
    "        anio = pelicula_encontrada['release_year']\n",
    "        score = pelicula_encontrada['popularity']\n",
    "\n",
    "        return (pelicula_encontrada, titulo, anio, score)\n"
   ]
  },
  {
   "cell_type": "code",
   "execution_count": null,
   "metadata": {},
   "outputs": [],
   "source": [
    "peli = 'Jumanji'\n",
    "score_titulo(peli)\n"
   ]
  },
  {
   "cell_type": "code",
   "execution_count": null,
   "metadata": {},
   "outputs": [],
   "source": [
    "type(data_movies['vote_average'][0])"
   ]
  },
  {
   "cell_type": "code",
   "execution_count": null,
   "metadata": {},
   "outputs": [],
   "source": [
    "type(data_movies['vote_count'][0])"
   ]
  },
  {
   "cell_type": "code",
   "execution_count": null,
   "metadata": {},
   "outputs": [],
   "source": [
    "peliculas.head()"
   ]
  },
  {
   "cell_type": "code",
   "execution_count": null,
   "metadata": {},
   "outputs": [],
   "source": [
    "peliculas['title'][1]\n",
    "creditos.head()"
   ]
  }
 ],
 "metadata": {
  "kernelspec": {
   "display_name": "Python 3",
   "language": "python",
   "name": "python3"
  },
  "language_info": {
   "codemirror_mode": {
    "name": "ipython",
    "version": 3
   },
   "file_extension": ".py",
   "mimetype": "text/x-python",
   "name": "python",
   "nbconvert_exporter": "python",
   "pygments_lexer": "ipython3",
   "version": "3.10.0"
  }
 },
 "nbformat": 4,
 "nbformat_minor": 2
}
